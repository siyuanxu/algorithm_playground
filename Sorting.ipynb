{
 "cells": [
  {
   "cell_type": "markdown",
   "metadata": {},
   "source": [
    "# 经典排序算法"
   ]
  },
  {
   "cell_type": "code",
   "execution_count": 168,
   "metadata": {},
   "outputs": [],
   "source": [
    "import random\n",
    "import matplotlib.pyplot as plt\n",
    "\n",
    "# 随机不重复数列生成器\n",
    "def generate_pool(pool_size):\n",
    "    pool = [i for i in range(pool_size)]\n",
    "\n",
    "    random_pool = []\n",
    "\n",
    "    while len(random_pool)<pool_size:\n",
    "        alpha = random.choice(pool)\n",
    "        pool.remove(alpha)\n",
    "        random_pool.append(alpha)\n",
    "    return random_pool\n",
    "\n",
    "# 排序算法时效验证\n",
    "def sort_test(sorter, pool_size):\n",
    "    time0 = time.time()\n",
    "    random_pool = generate_pool(1000)\n",
    "    time1 = time.time()\n",
    "    sorter(random_pool)\n",
    "    time2 = time.time()\n",
    "    print(f'{i} steps used\\ngeneration time : {time1-time0}\\nsorting time : {time2-time1}')"
   ]
  },
  {
   "cell_type": "markdown",
   "metadata": {},
   "source": [
    "## 1. 冒泡排序（Bubble sort）"
   ]
  },
  {
   "cell_type": "code",
   "execution_count": 169,
   "metadata": {},
   "outputs": [
    {
     "name": "stdout",
     "output_type": "stream",
     "text": [
      "978 steps used\n",
      "generation time : 0.0029914379119873047\n",
      "sorting time : 0.08574700355529785\n"
     ]
    }
   ],
   "source": [
    "def bubble(random_pool):\n",
    "    rand_pool = random_pool[:]\n",
    "    n = len(rand_pool)-1\n",
    "    \n",
    "    def bubble_junior(rand_pool):        \n",
    "        swap = 0\n",
    "        for i in range(len(rand_pool)-1):\n",
    "            a = rand_pool[i]\n",
    "            b = rand_pool[i+1]\n",
    "\n",
    "            if a<b:\n",
    "                pass\n",
    "            else:\n",
    "                rand_pool[i] = b\n",
    "                rand_pool[i+1] = a\n",
    "                swap+=1\n",
    "        return rand_pool, swap\n",
    "    \n",
    "    swap = 1\n",
    "    i = 0\n",
    "    while swap>0:\n",
    "        rand_pool, swap=bubble_junior(rand_pool)\n",
    "        i+=1\n",
    "\n",
    "    return rand_pool,i\n",
    "\n",
    "sort_test(bubble,1000)"
   ]
  }
 ],
 "metadata": {
  "kernelspec": {
   "display_name": "Python 3",
   "language": "python",
   "name": "python3"
  },
  "language_info": {
   "codemirror_mode": {
    "name": "ipython",
    "version": 3
   },
   "file_extension": ".py",
   "mimetype": "text/x-python",
   "name": "python",
   "nbconvert_exporter": "python",
   "pygments_lexer": "ipython3",
   "version": "3.6.5"
  }
 },
 "nbformat": 4,
 "nbformat_minor": 2
}
